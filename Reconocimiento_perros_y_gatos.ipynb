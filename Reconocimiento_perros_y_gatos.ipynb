{
  "nbformat": 4,
  "nbformat_minor": 0,
  "metadata": {
    "colab": {
      "name": "Reconocimiento_perros_y_gatos.ipynb",
      "provenance": [],
      "collapsed_sections": [],
      "authorship_tag": "ABX9TyP5MNkksHpCOuZyd4bCRLvM",
      "include_colab_link": true
    },
    "kernelspec": {
      "name": "python3",
      "display_name": "Python 3"
    },
    "language_info": {
      "name": "python"
    },
    "accelerator": "GPU"
  },
  "cells": [
    {
      "cell_type": "markdown",
      "metadata": {
        "id": "view-in-github",
        "colab_type": "text"
      },
      "source": [
        "<a href=\"https://colab.research.google.com/github/EZzero7/Reconocimiento_perros_y_gatos/blob/main/Reconocimiento_perros_y_gatos.ipynb\" target=\"_parent\"><img src=\"https://colab.research.google.com/assets/colab-badge.svg\" alt=\"Open In Colab\"/></a>"
      ]
    },
    {
      "cell_type": "code",
      "execution_count": null,
      "metadata": {
        "id": "U1ab5iG8endQ"
      },
      "outputs": [],
      "source": [
        "import tensorflow as tf\n",
        "from tensorflow.keras.layers import Conv2D, MaxPooling2D, Dropout, Flatten, Dense\n",
        "from tensorflow.keras.preprocessing.image import ImageDataGenerator\n",
        "from tensorflow.keras.callbacks import ModelCheckpoint, EarlyStopping\n",
        "from tensorflow.keras import models, optimizers, regularizers\n",
        "import pandas as pd"
      ]
    },
    {
      "cell_type": "code",
      "source": [
        "model = models.Sequential()\n",
        "\n",
        "model.add(Conv2D(32, (3,3), activation = 'relu', input_shape=(150,150,3)))\n",
        "model.add(MaxPooling2D((2,2)))\n",
        "\n",
        "model.add(Conv2D(64, (3,3), activation= 'relu'))\n",
        "model.add(MaxPooling2D((2,2)))\n",
        "\n",
        "model.add(Conv2D(128, (3,3), activation= 'relu'))\n",
        "model.add(MaxPooling2D((2,2)))\n",
        "\n",
        "model.add(Conv2D(128, (3,3), activation='relu'))\n",
        "model.add(MaxPooling2D((2,2)))\n",
        "\n",
        "model.add(Flatten())\n",
        "model.add(Dropout(0.5))\n",
        "model.add(Dense(512, activation='relu'))\n",
        "model.add(Dense(1, activation='sigmoid'))\n",
        "\n",
        "model.summary()"
      ],
      "metadata": {
        "colab": {
          "base_uri": "https://localhost:8080/"
        },
        "id": "CQEE3Q6GklSq",
        "outputId": "99b803eb-0896-4fc4-e76b-53b6a0a0f64d"
      },
      "execution_count": null,
      "outputs": [
        {
          "output_type": "stream",
          "name": "stdout",
          "text": [
            "Model: \"sequential\"\n",
            "_________________________________________________________________\n",
            " Layer (type)                Output Shape              Param #   \n",
            "=================================================================\n",
            " conv2d (Conv2D)             (None, 148, 148, 32)      896       \n",
            "                                                                 \n",
            " max_pooling2d (MaxPooling2D  (None, 74, 74, 32)       0         \n",
            " )                                                               \n",
            "                                                                 \n",
            " conv2d_1 (Conv2D)           (None, 72, 72, 64)        18496     \n",
            "                                                                 \n",
            " max_pooling2d_1 (MaxPooling  (None, 36, 36, 64)       0         \n",
            " 2D)                                                             \n",
            "                                                                 \n",
            " conv2d_2 (Conv2D)           (None, 34, 34, 128)       73856     \n",
            "                                                                 \n",
            " max_pooling2d_2 (MaxPooling  (None, 17, 17, 128)      0         \n",
            " 2D)                                                             \n",
            "                                                                 \n",
            " conv2d_3 (Conv2D)           (None, 15, 15, 128)       147584    \n",
            "                                                                 \n",
            " max_pooling2d_3 (MaxPooling  (None, 7, 7, 128)        0         \n",
            " 2D)                                                             \n",
            "                                                                 \n",
            " flatten (Flatten)           (None, 6272)              0         \n",
            "                                                                 \n",
            " dropout (Dropout)           (None, 6272)              0         \n",
            "                                                                 \n",
            " dense (Dense)               (None, 512)               3211776   \n",
            "                                                                 \n",
            " dense_1 (Dense)             (None, 1)                 513       \n",
            "                                                                 \n",
            "=================================================================\n",
            "Total params: 3,453,121\n",
            "Trainable params: 3,453,121\n",
            "Non-trainable params: 0\n",
            "_________________________________________________________________\n"
          ]
        }
      ]
    },
    {
      "cell_type": "code",
      "source": [
        "train_datagen = ImageDataGenerator(\n",
        "    rescale=1./255,\n",
        "    rotation_range=40,\n",
        "    width_shift_range=0.2,\n",
        "    height_shift_range=0.2,\n",
        "    shear_range=0.2,\n",
        "    zoom_range=0.2,\n",
        "    horizontal_flip=True\n",
        ")"
      ],
      "metadata": {
        "id": "3a4TM25DkVsb"
      },
      "execution_count": null,
      "outputs": []
    },
    {
      "cell_type": "code",
      "source": [
        "test_datagen = ImageDataGenerator(rescale=1./255)"
      ],
      "metadata": {
        "id": "qDTYW_2dqbbt"
      },
      "execution_count": null,
      "outputs": []
    },
    {
      "cell_type": "code",
      "source": [
        "from google.colab import drive\n",
        "drive.mount('/content/drive')"
      ],
      "metadata": {
        "colab": {
          "base_uri": "https://localhost:8080/"
        },
        "id": "oTN_HmVSrpDk",
        "outputId": "54163606-2686-4488-bfb2-04a9e07a4f76"
      },
      "execution_count": null,
      "outputs": [
        {
          "output_type": "stream",
          "name": "stdout",
          "text": [
            "Mounted at /content/drive\n"
          ]
        }
      ]
    },
    {
      "cell_type": "code",
      "source": [
        "train_generator = train_datagen.flow_from_directory('/content/drive/MyDrive/perros y gatos/gatos_perros/training_set',\n",
        "                                target_size=(150,150),\n",
        "                                batch_size=32,\n",
        "                                class_mode='binary'\n",
        "                                )\n",
        "\n",
        "validation_generator = test_datagen.flow_from_directory('/content/drive/MyDrive/perros y gatos/gatos_perros/test_set',\n",
        "                                    target_size=(150,150),\n",
        "                                    batch_size=32,\n",
        "                                    class_mode='binary'\n",
        "                                    )"
      ],
      "metadata": {
        "colab": {
          "base_uri": "https://localhost:8080/"
        },
        "id": "22efdV5Mr2Or",
        "outputId": "59060dcc-7a1f-47e9-d3df-7c75c18d2524"
      },
      "execution_count": null,
      "outputs": [
        {
          "output_type": "stream",
          "name": "stdout",
          "text": [
            "Found 8005 images belonging to 2 classes.\n",
            "Found 2023 images belonging to 2 classes.\n"
          ]
        }
      ]
    },
    {
      "cell_type": "code",
      "source": [
        "checkpoint = ModelCheckpoint('nodel_perros_gatos.hdf5', monitor='val_accuracy', verbose= 1,save_best_only=True)"
      ],
      "metadata": {
        "id": "HwBrdOPNK8sR"
      },
      "execution_count": null,
      "outputs": []
    },
    {
      "cell_type": "code",
      "source": [
        "model.compile(loss='binary_crossentropy', optimizer= optimizers.Adam(),metrics=['accuracy'])"
      ],
      "metadata": {
        "id": "gvxc4NhLLR-q"
      },
      "execution_count": null,
      "outputs": []
    },
    {
      "cell_type": "code",
      "source": [
        "hist = model.fit(train_generator, steps_per_epoch=2000//32,\n",
        "                 epochs=100,\n",
        "                 validation_data=validation_generator,\n",
        "                 validation_steps=1000//32,\n",
        "                 callbacks=[checkpoint])"
      ],
      "metadata": {
        "colab": {
          "base_uri": "https://localhost:8080/"
        },
        "id": "mXJ_Oc53MGoA",
        "outputId": "503f3b88-4cf3-4358-d104-bbf767bfe045"
      },
      "execution_count": null,
      "outputs": [
        {
          "output_type": "stream",
          "name": "stdout",
          "text": [
            "Epoch 1/100\n",
            "62/62 [==============================] - ETA: 0s - loss: 0.6896 - accuracy: 0.5479\n",
            "Epoch 1: val_accuracy improved from -inf to 0.51613, saving model to nodel_perros_gatos.hdf5\n",
            "62/62 [==============================] - 516s 8s/step - loss: 0.6896 - accuracy: 0.5479 - val_loss: 0.6906 - val_accuracy: 0.5161\n",
            "Epoch 2/100\n",
            "61/62 [============================>.] - ETA: 2s - loss: 0.6816 - accuracy: 0.5517\n",
            "Epoch 2: val_accuracy improved from 0.51613 to 0.62500, saving model to nodel_perros_gatos.hdf5\n",
            "62/62 [==============================] - 289s 5s/step - loss: 0.6813 - accuracy: 0.5519 - val_loss: 0.6529 - val_accuracy: 0.6250\n",
            "Epoch 3/100\n",
            "62/62 [==============================] - ETA: 0s - loss: 0.6609 - accuracy: 0.6053\n",
            "Epoch 3: val_accuracy improved from 0.62500 to 0.63911, saving model to nodel_perros_gatos.hdf5\n",
            "62/62 [==============================] - 209s 3s/step - loss: 0.6609 - accuracy: 0.6053 - val_loss: 0.6368 - val_accuracy: 0.6391\n",
            "Epoch 4/100\n",
            "62/62 [==============================] - ETA: 0s - loss: 0.6619 - accuracy: 0.5943\n",
            "Epoch 4: val_accuracy improved from 0.63911 to 0.65726, saving model to nodel_perros_gatos.hdf5\n",
            "62/62 [==============================] - 147s 2s/step - loss: 0.6619 - accuracy: 0.5943 - val_loss: 0.6373 - val_accuracy: 0.6573\n",
            "Epoch 5/100\n",
            "62/62 [==============================] - ETA: 0s - loss: 0.6500 - accuracy: 0.6079\n",
            "Epoch 5: val_accuracy improved from 0.65726 to 0.66431, saving model to nodel_perros_gatos.hdf5\n",
            "62/62 [==============================] - 108s 2s/step - loss: 0.6500 - accuracy: 0.6079 - val_loss: 0.6346 - val_accuracy: 0.6643\n",
            "Epoch 6/100\n",
            "62/62 [==============================] - ETA: 0s - loss: 0.6487 - accuracy: 0.6154\n",
            "Epoch 6: val_accuracy improved from 0.66431 to 0.68952, saving model to nodel_perros_gatos.hdf5\n",
            "62/62 [==============================] - 84s 1s/step - loss: 0.6487 - accuracy: 0.6154 - val_loss: 0.6103 - val_accuracy: 0.6895\n",
            "Epoch 7/100\n",
            "62/62 [==============================] - ETA: 0s - loss: 0.6344 - accuracy: 0.6331\n",
            "Epoch 7: val_accuracy improved from 0.68952 to 0.70968, saving model to nodel_perros_gatos.hdf5\n",
            "62/62 [==============================] - 80s 1s/step - loss: 0.6344 - accuracy: 0.6331 - val_loss: 0.6010 - val_accuracy: 0.7097\n",
            "Epoch 8/100\n",
            "62/62 [==============================] - ETA: 0s - loss: 0.6425 - accuracy: 0.6300\n",
            "Epoch 8: val_accuracy did not improve from 0.70968\n",
            "62/62 [==============================] - 53s 853ms/step - loss: 0.6425 - accuracy: 0.6300 - val_loss: 0.6480 - val_accuracy: 0.6149\n",
            "Epoch 9/100\n",
            "62/62 [==============================] - ETA: 0s - loss: 0.6285 - accuracy: 0.6537\n",
            "Epoch 9: val_accuracy did not improve from 0.70968\n",
            "62/62 [==============================] - 55s 885ms/step - loss: 0.6285 - accuracy: 0.6537 - val_loss: 0.6056 - val_accuracy: 0.6865\n",
            "Epoch 10/100\n",
            "62/62 [==============================] - ETA: 0s - loss: 0.6213 - accuracy: 0.6462\n",
            "Epoch 10: val_accuracy did not improve from 0.70968\n",
            "62/62 [==============================] - 41s 660ms/step - loss: 0.6213 - accuracy: 0.6462 - val_loss: 0.6990 - val_accuracy: 0.6230\n",
            "Epoch 11/100\n",
            "62/62 [==============================] - ETA: 0s - loss: 0.6107 - accuracy: 0.6653\n",
            "Epoch 11: val_accuracy improved from 0.70968 to 0.71976, saving model to nodel_perros_gatos.hdf5\n",
            "62/62 [==============================] - 39s 641ms/step - loss: 0.6107 - accuracy: 0.6653 - val_loss: 0.5615 - val_accuracy: 0.7198\n",
            "Epoch 12/100\n",
            "62/62 [==============================] - ETA: 0s - loss: 0.6347 - accuracy: 0.6520\n",
            "Epoch 12: val_accuracy did not improve from 0.71976\n",
            "62/62 [==============================] - 34s 540ms/step - loss: 0.6347 - accuracy: 0.6520 - val_loss: 0.6677 - val_accuracy: 0.5615\n",
            "Epoch 13/100\n",
            "62/62 [==============================] - ETA: 0s - loss: 0.6487 - accuracy: 0.6275\n",
            "Epoch 13: val_accuracy did not improve from 0.71976\n",
            "62/62 [==============================] - 35s 557ms/step - loss: 0.6487 - accuracy: 0.6275 - val_loss: 0.6296 - val_accuracy: 0.6724\n",
            "Epoch 14/100\n",
            "62/62 [==============================] - ETA: 0s - loss: 0.6026 - accuracy: 0.6765\n",
            "Epoch 14: val_accuracy improved from 0.71976 to 0.73387, saving model to nodel_perros_gatos.hdf5\n",
            "62/62 [==============================] - 32s 519ms/step - loss: 0.6026 - accuracy: 0.6765 - val_loss: 0.5664 - val_accuracy: 0.7339\n",
            "Epoch 15/100\n",
            "62/62 [==============================] - ETA: 0s - loss: 0.6246 - accuracy: 0.6633\n",
            "Epoch 15: val_accuracy did not improve from 0.73387\n",
            "62/62 [==============================] - 32s 510ms/step - loss: 0.6246 - accuracy: 0.6633 - val_loss: 0.5821 - val_accuracy: 0.6935\n",
            "Epoch 16/100\n",
            "62/62 [==============================] - ETA: 0s - loss: 0.5980 - accuracy: 0.6820\n",
            "Epoch 16: val_accuracy improved from 0.73387 to 0.73589, saving model to nodel_perros_gatos.hdf5\n",
            "62/62 [==============================] - 30s 492ms/step - loss: 0.5980 - accuracy: 0.6820 - val_loss: 0.5407 - val_accuracy: 0.7359\n",
            "Epoch 17/100\n",
            "62/62 [==============================] - ETA: 0s - loss: 0.6231 - accuracy: 0.6578\n",
            "Epoch 17: val_accuracy did not improve from 0.73589\n",
            "62/62 [==============================] - 30s 484ms/step - loss: 0.6231 - accuracy: 0.6578 - val_loss: 0.5920 - val_accuracy: 0.6825\n",
            "Epoch 18/100\n",
            "62/62 [==============================] - ETA: 0s - loss: 0.6078 - accuracy: 0.6714\n",
            "Epoch 18: val_accuracy improved from 0.73589 to 0.74496, saving model to nodel_perros_gatos.hdf5\n",
            "62/62 [==============================] - 29s 464ms/step - loss: 0.6078 - accuracy: 0.6714 - val_loss: 0.5335 - val_accuracy: 0.7450\n",
            "Epoch 19/100\n",
            "62/62 [==============================] - ETA: 0s - loss: 0.5792 - accuracy: 0.7082\n",
            "Epoch 19: val_accuracy did not improve from 0.74496\n",
            "62/62 [==============================] - 28s 451ms/step - loss: 0.5792 - accuracy: 0.7082 - val_loss: 0.5745 - val_accuracy: 0.7036\n",
            "Epoch 20/100\n",
            "62/62 [==============================] - ETA: 0s - loss: 0.5739 - accuracy: 0.7072\n",
            "Epoch 20: val_accuracy did not improve from 0.74496\n",
            "62/62 [==============================] - 27s 436ms/step - loss: 0.5739 - accuracy: 0.7072 - val_loss: 0.5452 - val_accuracy: 0.7339\n",
            "Epoch 21/100\n",
            "62/62 [==============================] - ETA: 0s - loss: 0.5881 - accuracy: 0.6895\n",
            "Epoch 21: val_accuracy did not improve from 0.74496\n",
            "62/62 [==============================] - 27s 436ms/step - loss: 0.5881 - accuracy: 0.6895 - val_loss: 0.5524 - val_accuracy: 0.7258\n",
            "Epoch 22/100\n",
            "62/62 [==============================] - ETA: 0s - loss: 0.5883 - accuracy: 0.6895\n",
            "Epoch 22: val_accuracy did not improve from 0.74496\n",
            "62/62 [==============================] - 29s 459ms/step - loss: 0.5883 - accuracy: 0.6895 - val_loss: 0.5456 - val_accuracy: 0.7450\n",
            "Epoch 23/100\n",
            "62/62 [==============================] - ETA: 0s - loss: 0.5736 - accuracy: 0.6915\n",
            "Epoch 23: val_accuracy did not improve from 0.74496\n",
            "62/62 [==============================] - 27s 435ms/step - loss: 0.5736 - accuracy: 0.6915 - val_loss: 0.5283 - val_accuracy: 0.7248\n",
            "Epoch 24/100\n",
            "62/62 [==============================] - ETA: 0s - loss: 0.5519 - accuracy: 0.7142\n",
            "Epoch 24: val_accuracy improved from 0.74496 to 0.75806, saving model to nodel_perros_gatos.hdf5\n",
            "62/62 [==============================] - 27s 437ms/step - loss: 0.5519 - accuracy: 0.7142 - val_loss: 0.4988 - val_accuracy: 0.7581\n",
            "Epoch 25/100\n",
            "62/62 [==============================] - ETA: 0s - loss: 0.5809 - accuracy: 0.7056\n",
            "Epoch 25: val_accuracy improved from 0.75806 to 0.76109, saving model to nodel_perros_gatos.hdf5\n",
            "62/62 [==============================] - 27s 443ms/step - loss: 0.5809 - accuracy: 0.7056 - val_loss: 0.5073 - val_accuracy: 0.7611\n",
            "Epoch 26/100\n",
            "62/62 [==============================] - ETA: 0s - loss: 0.5530 - accuracy: 0.7172\n",
            "Epoch 26: val_accuracy did not improve from 0.76109\n",
            "62/62 [==============================] - 27s 433ms/step - loss: 0.5530 - accuracy: 0.7172 - val_loss: 0.4975 - val_accuracy: 0.7571\n",
            "Epoch 27/100\n",
            "62/62 [==============================] - ETA: 0s - loss: 0.5483 - accuracy: 0.7157\n",
            "Epoch 27: val_accuracy did not improve from 0.76109\n",
            "62/62 [==============================] - 27s 436ms/step - loss: 0.5483 - accuracy: 0.7157 - val_loss: 0.5043 - val_accuracy: 0.7560\n",
            "Epoch 28/100\n",
            "62/62 [==============================] - ETA: 0s - loss: 0.5602 - accuracy: 0.7228\n",
            "Epoch 28: val_accuracy improved from 0.76109 to 0.76310, saving model to nodel_perros_gatos.hdf5\n",
            "62/62 [==============================] - 27s 443ms/step - loss: 0.5602 - accuracy: 0.7228 - val_loss: 0.4853 - val_accuracy: 0.7631\n",
            "Epoch 29/100\n",
            "62/62 [==============================] - ETA: 0s - loss: 0.5527 - accuracy: 0.7077\n",
            "Epoch 29: val_accuracy did not improve from 0.76310\n",
            "62/62 [==============================] - 27s 443ms/step - loss: 0.5527 - accuracy: 0.7077 - val_loss: 0.5254 - val_accuracy: 0.7419\n",
            "Epoch 30/100\n",
            "62/62 [==============================] - ETA: 0s - loss: 0.5461 - accuracy: 0.7253\n",
            "Epoch 30: val_accuracy did not improve from 0.76310\n",
            "62/62 [==============================] - 27s 433ms/step - loss: 0.5461 - accuracy: 0.7253 - val_loss: 0.5009 - val_accuracy: 0.7510\n",
            "Epoch 31/100\n",
            "62/62 [==============================] - ETA: 0s - loss: 0.5560 - accuracy: 0.7213\n",
            "Epoch 31: val_accuracy did not improve from 0.76310\n",
            "62/62 [==============================] - 27s 430ms/step - loss: 0.5560 - accuracy: 0.7213 - val_loss: 0.4920 - val_accuracy: 0.7591\n",
            "Epoch 32/100\n",
            "62/62 [==============================] - ETA: 0s - loss: 0.5334 - accuracy: 0.7343\n",
            "Epoch 32: val_accuracy improved from 0.76310 to 0.78831, saving model to nodel_perros_gatos.hdf5\n",
            "62/62 [==============================] - 27s 434ms/step - loss: 0.5334 - accuracy: 0.7343 - val_loss: 0.4536 - val_accuracy: 0.7883\n",
            "Epoch 33/100\n",
            "62/62 [==============================] - ETA: 0s - loss: 0.5119 - accuracy: 0.7481\n",
            "Epoch 33: val_accuracy did not improve from 0.78831\n",
            "62/62 [==============================] - 27s 432ms/step - loss: 0.5119 - accuracy: 0.7481 - val_loss: 0.5080 - val_accuracy: 0.7621\n",
            "Epoch 34/100\n",
            "62/62 [==============================] - ETA: 0s - loss: 0.5236 - accuracy: 0.7430\n",
            "Epoch 34: val_accuracy did not improve from 0.78831\n",
            "62/62 [==============================] - 27s 432ms/step - loss: 0.5236 - accuracy: 0.7430 - val_loss: 0.4796 - val_accuracy: 0.7802\n",
            "Epoch 35/100\n",
            "62/62 [==============================] - ETA: 0s - loss: 0.5339 - accuracy: 0.7283\n",
            "Epoch 35: val_accuracy improved from 0.78831 to 0.79133, saving model to nodel_perros_gatos.hdf5\n",
            "62/62 [==============================] - 28s 456ms/step - loss: 0.5339 - accuracy: 0.7283 - val_loss: 0.4498 - val_accuracy: 0.7913\n",
            "Epoch 36/100\n",
            "62/62 [==============================] - ETA: 0s - loss: 0.5073 - accuracy: 0.7611\n",
            "Epoch 36: val_accuracy improved from 0.79133 to 0.79637, saving model to nodel_perros_gatos.hdf5\n",
            "62/62 [==============================] - 27s 442ms/step - loss: 0.5073 - accuracy: 0.7611 - val_loss: 0.4769 - val_accuracy: 0.7964\n",
            "Epoch 37/100\n",
            "62/62 [==============================] - ETA: 0s - loss: 0.5154 - accuracy: 0.7515\n",
            "Epoch 37: val_accuracy did not improve from 0.79637\n",
            "62/62 [==============================] - 27s 435ms/step - loss: 0.5154 - accuracy: 0.7515 - val_loss: 0.4618 - val_accuracy: 0.7812\n",
            "Epoch 38/100\n",
            "62/62 [==============================] - ETA: 0s - loss: 0.5202 - accuracy: 0.7409\n",
            "Epoch 38: val_accuracy did not improve from 0.79637\n",
            "62/62 [==============================] - 26s 427ms/step - loss: 0.5202 - accuracy: 0.7409 - val_loss: 0.5177 - val_accuracy: 0.7177\n",
            "Epoch 39/100\n",
            "62/62 [==============================] - ETA: 0s - loss: 0.5318 - accuracy: 0.7369\n",
            "Epoch 39: val_accuracy improved from 0.79637 to 0.82258, saving model to nodel_perros_gatos.hdf5\n",
            "62/62 [==============================] - 27s 428ms/step - loss: 0.5318 - accuracy: 0.7369 - val_loss: 0.4490 - val_accuracy: 0.8226\n",
            "Epoch 40/100\n",
            "62/62 [==============================] - ETA: 0s - loss: 0.5200 - accuracy: 0.7455\n",
            "Epoch 40: val_accuracy did not improve from 0.82258\n",
            "62/62 [==============================] - 27s 429ms/step - loss: 0.5200 - accuracy: 0.7455 - val_loss: 0.4493 - val_accuracy: 0.7933\n",
            "Epoch 41/100\n",
            "62/62 [==============================] - ETA: 0s - loss: 0.5058 - accuracy: 0.7712\n",
            "Epoch 41: val_accuracy did not improve from 0.82258\n",
            "62/62 [==============================] - 32s 519ms/step - loss: 0.5058 - accuracy: 0.7712 - val_loss: 0.4325 - val_accuracy: 0.8115\n",
            "Epoch 42/100\n",
            "62/62 [==============================] - ETA: 0s - loss: 0.5145 - accuracy: 0.7545\n",
            "Epoch 42: val_accuracy did not improve from 0.82258\n",
            "62/62 [==============================] - 28s 452ms/step - loss: 0.5145 - accuracy: 0.7545 - val_loss: 0.4632 - val_accuracy: 0.7913\n",
            "Epoch 43/100\n",
            "62/62 [==============================] - ETA: 0s - loss: 0.4863 - accuracy: 0.7707\n",
            "Epoch 43: val_accuracy did not improve from 0.82258\n",
            "62/62 [==============================] - 27s 434ms/step - loss: 0.4863 - accuracy: 0.7707 - val_loss: 0.4748 - val_accuracy: 0.7641\n",
            "Epoch 44/100\n",
            "62/62 [==============================] - ETA: 0s - loss: 0.4834 - accuracy: 0.7540\n",
            "Epoch 44: val_accuracy did not improve from 0.82258\n",
            "62/62 [==============================] - 27s 439ms/step - loss: 0.4834 - accuracy: 0.7540 - val_loss: 0.4450 - val_accuracy: 0.7923\n",
            "Epoch 45/100\n",
            "62/62 [==============================] - ETA: 0s - loss: 0.4800 - accuracy: 0.7695\n",
            "Epoch 45: val_accuracy did not improve from 0.82258\n",
            "62/62 [==============================] - 26s 423ms/step - loss: 0.4800 - accuracy: 0.7695 - val_loss: 0.4061 - val_accuracy: 0.8135\n",
            "Epoch 46/100\n",
            "62/62 [==============================] - ETA: 0s - loss: 0.5015 - accuracy: 0.7629\n",
            "Epoch 46: val_accuracy did not improve from 0.82258\n",
            "62/62 [==============================] - 26s 423ms/step - loss: 0.5015 - accuracy: 0.7629 - val_loss: 0.3938 - val_accuracy: 0.8185\n",
            "Epoch 47/100\n",
            "62/62 [==============================] - ETA: 0s - loss: 0.4907 - accuracy: 0.7722\n",
            "Epoch 47: val_accuracy did not improve from 0.82258\n",
            "62/62 [==============================] - 26s 427ms/step - loss: 0.4907 - accuracy: 0.7722 - val_loss: 0.4593 - val_accuracy: 0.8044\n",
            "Epoch 48/100\n",
            "62/62 [==============================] - ETA: 0s - loss: 0.4636 - accuracy: 0.7787\n",
            "Epoch 48: val_accuracy did not improve from 0.82258\n",
            "62/62 [==============================] - 27s 429ms/step - loss: 0.4636 - accuracy: 0.7787 - val_loss: 0.4064 - val_accuracy: 0.8196\n",
            "Epoch 49/100\n",
            "62/62 [==============================] - ETA: 0s - loss: 0.4883 - accuracy: 0.7641\n",
            "Epoch 49: val_accuracy did not improve from 0.82258\n",
            "62/62 [==============================] - 27s 431ms/step - loss: 0.4883 - accuracy: 0.7641 - val_loss: 0.4575 - val_accuracy: 0.7883\n",
            "Epoch 50/100\n",
            "62/62 [==============================] - ETA: 0s - loss: 0.4807 - accuracy: 0.7908\n",
            "Epoch 50: val_accuracy did not improve from 0.82258\n",
            "62/62 [==============================] - 27s 439ms/step - loss: 0.4807 - accuracy: 0.7908 - val_loss: 0.4164 - val_accuracy: 0.8054\n",
            "Epoch 51/100\n",
            "62/62 [==============================] - ETA: 0s - loss: 0.4720 - accuracy: 0.7888\n",
            "Epoch 51: val_accuracy improved from 0.82258 to 0.82863, saving model to nodel_perros_gatos.hdf5\n",
            "62/62 [==============================] - 29s 465ms/step - loss: 0.4720 - accuracy: 0.7888 - val_loss: 0.3941 - val_accuracy: 0.8286\n",
            "Epoch 52/100\n",
            "62/62 [==============================] - ETA: 0s - loss: 0.4575 - accuracy: 0.7873\n",
            "Epoch 52: val_accuracy improved from 0.82863 to 0.83266, saving model to nodel_perros_gatos.hdf5\n",
            "62/62 [==============================] - 28s 455ms/step - loss: 0.4575 - accuracy: 0.7873 - val_loss: 0.3933 - val_accuracy: 0.8327\n",
            "Epoch 53/100\n",
            "62/62 [==============================] - ETA: 0s - loss: 0.4591 - accuracy: 0.7823\n",
            "Epoch 53: val_accuracy did not improve from 0.83266\n",
            "62/62 [==============================] - 27s 437ms/step - loss: 0.4591 - accuracy: 0.7823 - val_loss: 0.4139 - val_accuracy: 0.8125\n",
            "Epoch 54/100\n",
            "62/62 [==============================] - ETA: 0s - loss: 0.4486 - accuracy: 0.7868\n",
            "Epoch 54: val_accuracy did not improve from 0.83266\n",
            "62/62 [==============================] - 27s 437ms/step - loss: 0.4486 - accuracy: 0.7868 - val_loss: 0.3964 - val_accuracy: 0.8266\n",
            "Epoch 55/100\n",
            "62/62 [==============================] - ETA: 0s - loss: 0.4500 - accuracy: 0.7994\n",
            "Epoch 55: val_accuracy did not improve from 0.83266\n",
            "62/62 [==============================] - 27s 442ms/step - loss: 0.4500 - accuracy: 0.7994 - val_loss: 0.4584 - val_accuracy: 0.7782\n",
            "Epoch 56/100\n",
            "62/62 [==============================] - ETA: 0s - loss: 0.4269 - accuracy: 0.8075\n",
            "Epoch 56: val_accuracy did not improve from 0.83266\n",
            "62/62 [==============================] - 28s 444ms/step - loss: 0.4269 - accuracy: 0.8075 - val_loss: 0.4004 - val_accuracy: 0.8155\n",
            "Epoch 57/100\n",
            "62/62 [==============================] - ETA: 0s - loss: 0.4494 - accuracy: 0.7923\n",
            "Epoch 57: val_accuracy did not improve from 0.83266\n",
            "62/62 [==============================] - 27s 429ms/step - loss: 0.4494 - accuracy: 0.7923 - val_loss: 0.3812 - val_accuracy: 0.8216\n",
            "Epoch 58/100\n",
            "62/62 [==============================] - ETA: 0s - loss: 0.4524 - accuracy: 0.7883\n",
            "Epoch 58: val_accuracy improved from 0.83266 to 0.83468, saving model to nodel_perros_gatos.hdf5\n",
            "62/62 [==============================] - 27s 438ms/step - loss: 0.4524 - accuracy: 0.7883 - val_loss: 0.3986 - val_accuracy: 0.8347\n",
            "Epoch 59/100\n",
            "62/62 [==============================] - ETA: 0s - loss: 0.4688 - accuracy: 0.7798\n",
            "Epoch 59: val_accuracy did not improve from 0.83468\n",
            "62/62 [==============================] - 26s 428ms/step - loss: 0.4688 - accuracy: 0.7798 - val_loss: 0.4040 - val_accuracy: 0.8095\n",
            "Epoch 60/100\n",
            "62/62 [==============================] - ETA: 0s - loss: 0.4371 - accuracy: 0.8024\n",
            "Epoch 60: val_accuracy did not improve from 0.83468\n",
            "62/62 [==============================] - 27s 444ms/step - loss: 0.4371 - accuracy: 0.8024 - val_loss: 0.4341 - val_accuracy: 0.7974\n",
            "Epoch 61/100\n",
            "62/62 [==============================] - ETA: 0s - loss: 0.4579 - accuracy: 0.7868\n",
            "Epoch 61: val_accuracy did not improve from 0.83468\n",
            "62/62 [==============================] - 27s 436ms/step - loss: 0.4579 - accuracy: 0.7868 - val_loss: 0.3669 - val_accuracy: 0.8347\n",
            "Epoch 62/100\n",
            "62/62 [==============================] - ETA: 0s - loss: 0.4402 - accuracy: 0.7969\n",
            "Epoch 62: val_accuracy improved from 0.83468 to 0.84577, saving model to nodel_perros_gatos.hdf5\n",
            "62/62 [==============================] - 27s 440ms/step - loss: 0.4402 - accuracy: 0.7969 - val_loss: 0.3598 - val_accuracy: 0.8458\n",
            "Epoch 63/100\n",
            "62/62 [==============================] - ETA: 0s - loss: 0.4285 - accuracy: 0.7954\n",
            "Epoch 63: val_accuracy did not improve from 0.84577\n",
            "62/62 [==============================] - 27s 435ms/step - loss: 0.4285 - accuracy: 0.7954 - val_loss: 0.3504 - val_accuracy: 0.8417\n",
            "Epoch 64/100\n",
            "62/62 [==============================] - ETA: 0s - loss: 0.4270 - accuracy: 0.8070\n",
            "Epoch 64: val_accuracy did not improve from 0.84577\n",
            "62/62 [==============================] - 27s 432ms/step - loss: 0.4270 - accuracy: 0.8070 - val_loss: 0.3854 - val_accuracy: 0.8317\n",
            "Epoch 65/100\n",
            "62/62 [==============================] - ETA: 0s - loss: 0.4419 - accuracy: 0.7974\n",
            "Epoch 65: val_accuracy improved from 0.84577 to 0.85081, saving model to nodel_perros_gatos.hdf5\n",
            "62/62 [==============================] - 27s 440ms/step - loss: 0.4419 - accuracy: 0.7974 - val_loss: 0.3314 - val_accuracy: 0.8508\n",
            "Epoch 66/100\n",
            "62/62 [==============================] - ETA: 0s - loss: 0.4257 - accuracy: 0.8075\n",
            "Epoch 66: val_accuracy did not improve from 0.85081\n",
            "62/62 [==============================] - 27s 436ms/step - loss: 0.4257 - accuracy: 0.8075 - val_loss: 0.3731 - val_accuracy: 0.8286\n",
            "Epoch 67/100\n",
            "62/62 [==============================] - ETA: 0s - loss: 0.4318 - accuracy: 0.7959\n",
            "Epoch 67: val_accuracy did not improve from 0.85081\n",
            "62/62 [==============================] - 27s 434ms/step - loss: 0.4318 - accuracy: 0.7959 - val_loss: 0.3592 - val_accuracy: 0.8458\n",
            "Epoch 68/100\n",
            "62/62 [==============================] - ETA: 0s - loss: 0.4253 - accuracy: 0.8130\n",
            "Epoch 68: val_accuracy did not improve from 0.85081\n",
            "62/62 [==============================] - 27s 430ms/step - loss: 0.4253 - accuracy: 0.8130 - val_loss: 0.3654 - val_accuracy: 0.8448\n",
            "Epoch 69/100\n",
            "62/62 [==============================] - ETA: 0s - loss: 0.4257 - accuracy: 0.8105\n",
            "Epoch 69: val_accuracy did not improve from 0.85081\n",
            "62/62 [==============================] - 27s 442ms/step - loss: 0.4257 - accuracy: 0.8105 - val_loss: 0.3341 - val_accuracy: 0.8478\n",
            "Epoch 70/100\n",
            "62/62 [==============================] - ETA: 0s - loss: 0.4275 - accuracy: 0.8058\n",
            "Epoch 70: val_accuracy did not improve from 0.85081\n",
            "62/62 [==============================] - 26s 420ms/step - loss: 0.4275 - accuracy: 0.8058 - val_loss: 0.3596 - val_accuracy: 0.8427\n",
            "Epoch 71/100\n",
            "62/62 [==============================] - ETA: 0s - loss: 0.4077 - accuracy: 0.8196\n",
            "Epoch 71: val_accuracy did not improve from 0.85081\n",
            "62/62 [==============================] - 26s 419ms/step - loss: 0.4077 - accuracy: 0.8196 - val_loss: 0.3746 - val_accuracy: 0.8317\n",
            "Epoch 72/100\n",
            "62/62 [==============================] - ETA: 0s - loss: 0.4063 - accuracy: 0.8140\n",
            "Epoch 72: val_accuracy improved from 0.85081 to 0.85685, saving model to nodel_perros_gatos.hdf5\n",
            "62/62 [==============================] - 26s 422ms/step - loss: 0.4063 - accuracy: 0.8140 - val_loss: 0.3332 - val_accuracy: 0.8569\n",
            "Epoch 73/100\n",
            "62/62 [==============================] - ETA: 0s - loss: 0.4146 - accuracy: 0.8044\n",
            "Epoch 73: val_accuracy improved from 0.85685 to 0.86895, saving model to nodel_perros_gatos.hdf5\n",
            "62/62 [==============================] - 26s 423ms/step - loss: 0.4146 - accuracy: 0.8044 - val_loss: 0.3084 - val_accuracy: 0.8690\n",
            "Epoch 74/100\n",
            "62/62 [==============================] - ETA: 0s - loss: 0.4013 - accuracy: 0.8160\n",
            "Epoch 74: val_accuracy did not improve from 0.86895\n",
            "62/62 [==============================] - 26s 418ms/step - loss: 0.4013 - accuracy: 0.8160 - val_loss: 0.3524 - val_accuracy: 0.8377\n",
            "Epoch 75/100\n",
            "62/62 [==============================] - ETA: 0s - loss: 0.4072 - accuracy: 0.8196\n",
            "Epoch 75: val_accuracy improved from 0.86895 to 0.87198, saving model to nodel_perros_gatos.hdf5\n",
            "62/62 [==============================] - 26s 428ms/step - loss: 0.4072 - accuracy: 0.8196 - val_loss: 0.3162 - val_accuracy: 0.8720\n",
            "Epoch 76/100\n",
            "62/62 [==============================] - ETA: 0s - loss: 0.4173 - accuracy: 0.8109\n",
            "Epoch 76: val_accuracy did not improve from 0.87198\n",
            "62/62 [==============================] - 26s 417ms/step - loss: 0.4173 - accuracy: 0.8109 - val_loss: 0.3433 - val_accuracy: 0.8498\n",
            "Epoch 77/100\n",
            "62/62 [==============================] - ETA: 0s - loss: 0.4119 - accuracy: 0.8170\n",
            "Epoch 77: val_accuracy did not improve from 0.87198\n",
            "62/62 [==============================] - 26s 422ms/step - loss: 0.4119 - accuracy: 0.8170 - val_loss: 0.3842 - val_accuracy: 0.8246\n",
            "Epoch 78/100\n",
            "62/62 [==============================] - ETA: 0s - loss: 0.4025 - accuracy: 0.8140\n",
            "Epoch 78: val_accuracy improved from 0.87198 to 0.87399, saving model to nodel_perros_gatos.hdf5\n",
            "62/62 [==============================] - 27s 440ms/step - loss: 0.4025 - accuracy: 0.8140 - val_loss: 0.2985 - val_accuracy: 0.8740\n",
            "Epoch 79/100\n",
            "62/62 [==============================] - ETA: 0s - loss: 0.4189 - accuracy: 0.8022\n",
            "Epoch 79: val_accuracy did not improve from 0.87399\n",
            "62/62 [==============================] - 26s 421ms/step - loss: 0.4189 - accuracy: 0.8022 - val_loss: 0.3545 - val_accuracy: 0.8377\n",
            "Epoch 80/100\n",
            "62/62 [==============================] - ETA: 0s - loss: 0.4015 - accuracy: 0.8286\n",
            "Epoch 80: val_accuracy did not improve from 0.87399\n",
            "62/62 [==============================] - 26s 424ms/step - loss: 0.4015 - accuracy: 0.8286 - val_loss: 0.3331 - val_accuracy: 0.8619\n",
            "Epoch 81/100\n",
            "62/62 [==============================] - ETA: 0s - loss: 0.3957 - accuracy: 0.8191\n",
            "Epoch 81: val_accuracy improved from 0.87399 to 0.87500, saving model to nodel_perros_gatos.hdf5\n",
            "62/62 [==============================] - 26s 426ms/step - loss: 0.3957 - accuracy: 0.8191 - val_loss: 0.3048 - val_accuracy: 0.8750\n",
            "Epoch 82/100\n",
            "62/62 [==============================] - ETA: 0s - loss: 0.3865 - accuracy: 0.8263\n",
            "Epoch 82: val_accuracy did not improve from 0.87500\n",
            "62/62 [==============================] - 26s 425ms/step - loss: 0.3865 - accuracy: 0.8263 - val_loss: 0.3092 - val_accuracy: 0.8710\n",
            "Epoch 83/100\n",
            "62/62 [==============================] - ETA: 0s - loss: 0.3852 - accuracy: 0.8281\n",
            "Epoch 83: val_accuracy did not improve from 0.87500\n",
            "62/62 [==============================] - 26s 428ms/step - loss: 0.3852 - accuracy: 0.8281 - val_loss: 0.3916 - val_accuracy: 0.8226\n",
            "Epoch 84/100\n",
            "62/62 [==============================] - ETA: 0s - loss: 0.3738 - accuracy: 0.8453\n",
            "Epoch 84: val_accuracy improved from 0.87500 to 0.87903, saving model to nodel_perros_gatos.hdf5\n",
            "62/62 [==============================] - 26s 426ms/step - loss: 0.3738 - accuracy: 0.8453 - val_loss: 0.3043 - val_accuracy: 0.8790\n",
            "Epoch 85/100\n",
            "62/62 [==============================] - ETA: 0s - loss: 0.3895 - accuracy: 0.8211\n",
            "Epoch 85: val_accuracy did not improve from 0.87903\n",
            "62/62 [==============================] - 27s 431ms/step - loss: 0.3895 - accuracy: 0.8211 - val_loss: 0.3060 - val_accuracy: 0.8629\n",
            "Epoch 86/100\n",
            "62/62 [==============================] - ETA: 0s - loss: 0.3884 - accuracy: 0.8201\n",
            "Epoch 86: val_accuracy improved from 0.87903 to 0.88206, saving model to nodel_perros_gatos.hdf5\n",
            "62/62 [==============================] - 27s 434ms/step - loss: 0.3884 - accuracy: 0.8201 - val_loss: 0.2762 - val_accuracy: 0.8821\n",
            "Epoch 87/100\n",
            "62/62 [==============================] - ETA: 0s - loss: 0.3704 - accuracy: 0.8362\n",
            "Epoch 87: val_accuracy did not improve from 0.88206\n",
            "62/62 [==============================] - 27s 432ms/step - loss: 0.3704 - accuracy: 0.8362 - val_loss: 0.2870 - val_accuracy: 0.8810\n",
            "Epoch 88/100\n",
            "62/62 [==============================] - ETA: 0s - loss: 0.3795 - accuracy: 0.8226\n",
            "Epoch 88: val_accuracy did not improve from 0.88206\n",
            "62/62 [==============================] - 26s 428ms/step - loss: 0.3795 - accuracy: 0.8226 - val_loss: 0.3486 - val_accuracy: 0.8538\n",
            "Epoch 89/100\n",
            "62/62 [==============================] - ETA: 0s - loss: 0.3930 - accuracy: 0.8211\n",
            "Epoch 89: val_accuracy did not improve from 0.88206\n",
            "62/62 [==============================] - 26s 420ms/step - loss: 0.3930 - accuracy: 0.8211 - val_loss: 0.3408 - val_accuracy: 0.8478\n",
            "Epoch 90/100\n",
            "62/62 [==============================] - ETA: 0s - loss: 0.3822 - accuracy: 0.8377\n",
            "Epoch 90: val_accuracy did not improve from 0.88206\n",
            "62/62 [==============================] - 26s 424ms/step - loss: 0.3822 - accuracy: 0.8377 - val_loss: 0.3528 - val_accuracy: 0.8286\n",
            "Epoch 91/100\n",
            "62/62 [==============================] - ETA: 0s - loss: 0.3681 - accuracy: 0.8296\n",
            "Epoch 91: val_accuracy did not improve from 0.88206\n",
            "62/62 [==============================] - 28s 459ms/step - loss: 0.3681 - accuracy: 0.8296 - val_loss: 0.2948 - val_accuracy: 0.8679\n",
            "Epoch 92/100\n",
            "62/62 [==============================] - ETA: 0s - loss: 0.3651 - accuracy: 0.8387\n",
            "Epoch 92: val_accuracy improved from 0.88206 to 0.88710, saving model to nodel_perros_gatos.hdf5\n",
            "62/62 [==============================] - 41s 673ms/step - loss: 0.3651 - accuracy: 0.8387 - val_loss: 0.2731 - val_accuracy: 0.8871\n",
            "Epoch 93/100\n",
            "62/62 [==============================] - ETA: 0s - loss: 0.3506 - accuracy: 0.8473\n",
            "Epoch 93: val_accuracy did not improve from 0.88710\n",
            "62/62 [==============================] - 34s 551ms/step - loss: 0.3506 - accuracy: 0.8473 - val_loss: 0.2943 - val_accuracy: 0.8740\n",
            "Epoch 94/100\n",
            "62/62 [==============================] - ETA: 0s - loss: 0.3704 - accuracy: 0.8306\n",
            "Epoch 94: val_accuracy did not improve from 0.88710\n",
            "62/62 [==============================] - 27s 435ms/step - loss: 0.3704 - accuracy: 0.8306 - val_loss: 0.3000 - val_accuracy: 0.8720\n",
            "Epoch 95/100\n",
            "62/62 [==============================] - ETA: 0s - loss: 0.3480 - accuracy: 0.8427\n",
            "Epoch 95: val_accuracy did not improve from 0.88710\n",
            "62/62 [==============================] - 32s 516ms/step - loss: 0.3480 - accuracy: 0.8427 - val_loss: 0.2837 - val_accuracy: 0.8770\n",
            "Epoch 96/100\n",
            "62/62 [==============================] - ETA: 0s - loss: 0.3452 - accuracy: 0.8443\n",
            "Epoch 96: val_accuracy did not improve from 0.88710\n",
            "62/62 [==============================] - 30s 490ms/step - loss: 0.3452 - accuracy: 0.8443 - val_loss: 0.2895 - val_accuracy: 0.8790\n",
            "Epoch 97/100\n",
            "62/62 [==============================] - ETA: 0s - loss: 0.3358 - accuracy: 0.8539\n",
            "Epoch 97: val_accuracy did not improve from 0.88710\n",
            "62/62 [==============================] - 31s 503ms/step - loss: 0.3358 - accuracy: 0.8539 - val_loss: 0.2931 - val_accuracy: 0.8821\n",
            "Epoch 98/100\n",
            "62/62 [==============================] - ETA: 0s - loss: 0.3542 - accuracy: 0.8432\n",
            "Epoch 98: val_accuracy improved from 0.88710 to 0.89214, saving model to nodel_perros_gatos.hdf5\n",
            "62/62 [==============================] - 28s 446ms/step - loss: 0.3542 - accuracy: 0.8432 - val_loss: 0.2649 - val_accuracy: 0.8921\n",
            "Epoch 99/100\n",
            "62/62 [==============================] - ETA: 0s - loss: 0.3451 - accuracy: 0.8438\n",
            "Epoch 99: val_accuracy did not improve from 0.89214\n",
            "62/62 [==============================] - 28s 447ms/step - loss: 0.3451 - accuracy: 0.8438 - val_loss: 0.2773 - val_accuracy: 0.8821\n",
            "Epoch 100/100\n",
            "62/62 [==============================] - ETA: 0s - loss: 0.3251 - accuracy: 0.8620\n",
            "Epoch 100: val_accuracy did not improve from 0.89214\n",
            "62/62 [==============================] - 27s 433ms/step - loss: 0.3251 - accuracy: 0.8620 - val_loss: 0.2853 - val_accuracy: 0.8831\n"
          ]
        }
      ]
    },
    {
      "cell_type": "code",
      "source": [
        "import matplotlib.pyplot as plt"
      ],
      "metadata": {
        "id": "YAIdXzi9e9-E"
      },
      "execution_count": null,
      "outputs": []
    },
    {
      "cell_type": "code",
      "source": [
        "plt.plot(hist.history['accuracy'],label = 'Train')\n",
        "plt.plot(hist.history['val_accuracy'], label = 'Val')\n",
        "plt.legend()\n",
        "plt.show()"
      ],
      "metadata": {
        "colab": {
          "base_uri": "https://localhost:8080/",
          "height": 265
        },
        "id": "eNTH_DdgfFhJ",
        "outputId": "886deebd-1b18-4c9c-9719-e172baf2087f"
      },
      "execution_count": null,
      "outputs": [
        {
          "output_type": "display_data",
          "data": {
            "image/png": "[encoded data removed]",
            "text/plain": [
              "<Figure size 432x288 with 1 Axes>"
            ]
          },
          "metadata": {
            "needs_background": "light"
          }
        }
      ]
    },
    {
      "cell_type": "code",
      "source": [
        "model.evaluate(validation_generator)"
      ],
      "metadata": {
        "colab": {
          "base_uri": "https://localhost:8080/"
        },
        "id": "7aUJGIZJfjUi",
        "outputId": "95829a0b-6946-4086-ca5f-5c3499382b4b"
      },
      "execution_count": null,
      "outputs": [
        {
          "output_type": "stream",
          "name": "stdout",
          "text": [
            "64/64 [==============================] - 11s 164ms/step - loss: 0.2835 - accuracy: 0.8774\n"
          ]
        },
        {
          "output_type": "execute_result",
          "data": {
            "text/plain": [
              "[0.28353065252304077, 0.877409815788269]"
            ]
          },
          "metadata": {},
          "execution_count": 14
        }
      ]
    }
  ]
}